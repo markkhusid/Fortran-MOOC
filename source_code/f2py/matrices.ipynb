{
 "cells": [
  {
   "cell_type": "code",
   "execution_count": 1,
   "id": "young-shore",
   "metadata": {},
   "outputs": [],
   "source": [
    "import numpy as np"
   ]
  },
  {
   "cell_type": "markdown",
   "id": "opening-conversion",
   "metadata": {},
   "source": [
    "f2py works nicely with numpy arrays, passing them as (multi-)dimensional arrays to Fortran procedures.  However, there are a few caveats.  Consider the following Fortran module."
   ]
  },
  {
   "cell_type": "code",
   "execution_count": 24,
   "id": "legitimate-theology",
   "metadata": {},
   "outputs": [
    {
     "data": {
      "text/plain": [
       "\u001b[0mmodule\u001b[0m \u001b[0mmatrix_mod\u001b[0m\u001b[0;34m\u001b[0m\n",
       "\u001b[0;34m\u001b[0m    \u001b[0muse\u001b[0m\u001b[0;34m,\u001b[0m \u001b[0mintrinsic\u001b[0m \u001b[0;34m:\u001b[0m\u001b[0;34m:\u001b[0m \u001b[0miso_fortran_env\u001b[0m\u001b[0;34m,\u001b[0m \u001b[0monly\u001b[0m \u001b[0;34m:\u001b[0m \u001b[0merror_unit\u001b[0m\u001b[0;34m\u001b[0m\n",
       "\u001b[0;34m\u001b[0m    \u001b[0mimplicit\u001b[0m \u001b[0mnone\u001b[0m\u001b[0;34m\u001b[0m\n",
       "\u001b[0;34m\u001b[0m\u001b[0;34m\u001b[0m\n",
       "\u001b[0;34m\u001b[0m    \u001b[0mprivate\u001b[0m\u001b[0;34m\u001b[0m\n",
       "\u001b[0;34m\u001b[0m    \u001b[0mpublic\u001b[0m \u001b[0;34m:\u001b[0m\u001b[0;34m:\u001b[0m \u001b[0mnorm_matrix_rows\u001b[0m\u001b[0;34m\u001b[0m\n",
       "\u001b[0;34m\u001b[0m\u001b[0;34m\u001b[0m\n",
       "\u001b[0;34m\u001b[0m\u001b[0mcontains\u001b[0m\u001b[0;34m\u001b[0m\n",
       "\u001b[0;34m\u001b[0m\u001b[0;34m\u001b[0m\n",
       "\u001b[0;34m\u001b[0m    \u001b[0msubroutine\u001b[0m \u001b[0mnorm_matrix_rows\u001b[0m\u001b[0;34m(\u001b[0m\u001b[0mmatrix\u001b[0m\u001b[0;34m)\u001b[0m\u001b[0;34m\u001b[0m\n",
       "\u001b[0;34m\u001b[0m        \u001b[0mimplicit\u001b[0m \u001b[0mnone\u001b[0m\u001b[0;34m\u001b[0m\n",
       "\u001b[0;34m\u001b[0m        \u001b[0minteger\u001b[0m\u001b[0;34m,\u001b[0m \u001b[0mparameter\u001b[0m \u001b[0;34m:\u001b[0m\u001b[0;34m:\u001b[0m \u001b[0mDP\u001b[0m \u001b[0;34m=\u001b[0m \u001b[0mselected_real_kind\u001b[0m\u001b[0;34m(\u001b[0m\u001b[0;36m15\u001b[0m\u001b[0;34m,\u001b[0m \u001b[0;36m307\u001b[0m\u001b[0;34m)\u001b[0m\u001b[0;34m\u001b[0m\n",
       "\u001b[0;34m\u001b[0m        \u001b[0mreal\u001b[0m\u001b[0;34m(\u001b[0m\u001b[0mkind\u001b[0m\u001b[0;34m=\u001b[0m\u001b[0mDP\u001b[0m\u001b[0;34m)\u001b[0m\u001b[0;34m,\u001b[0m \u001b[0mdimension\u001b[0m\u001b[0;34m(\u001b[0m\u001b[0;34m:\u001b[0m\u001b[0;34m,\u001b[0m \u001b[0;34m:\u001b[0m\u001b[0;34m)\u001b[0m\u001b[0;34m,\u001b[0m \u001b[0mintent\u001b[0m\u001b[0;34m(\u001b[0m\u001b[0minout\u001b[0m\u001b[0;34m)\u001b[0m \u001b[0;34m:\u001b[0m\u001b[0;34m:\u001b[0m \u001b[0mmatrix\u001b[0m\u001b[0;34m\u001b[0m\n",
       "\u001b[0;34m\u001b[0m        \u001b[0mreal\u001b[0m\u001b[0;34m(\u001b[0m\u001b[0mkind\u001b[0m\u001b[0;34m=\u001b[0m\u001b[0mDP\u001b[0m\u001b[0;34m)\u001b[0m\u001b[0;34m,\u001b[0m \u001b[0mdimension\u001b[0m\u001b[0;34m(\u001b[0m\u001b[0;34m:\u001b[0m\u001b[0;34m)\u001b[0m\u001b[0;34m,\u001b[0m \u001b[0mallocatable\u001b[0m \u001b[0;34m:\u001b[0m\u001b[0;34m:\u001b[0m \u001b[0mrow_sums\u001b[0m\u001b[0;34m\u001b[0m\n",
       "\u001b[0;34m\u001b[0m        \u001b[0minteger\u001b[0m \u001b[0;34m:\u001b[0m\u001b[0;34m:\u001b[0m \u001b[0mstatus\u001b[0m\u001b[0;34m,\u001b[0m \u001b[0mj\u001b[0m\u001b[0;34m\u001b[0m\n",
       "\u001b[0;34m\u001b[0m\u001b[0;34m\u001b[0m\n",
       "\u001b[0;34m\u001b[0m        \u001b[0mallocate\u001b[0m \u001b[0;34m(\u001b[0m\u001b[0mrow_sums\u001b[0m\u001b[0;34m(\u001b[0m\u001b[0msize\u001b[0m\u001b[0;34m(\u001b[0m\u001b[0mmatrix\u001b[0m\u001b[0;34m,\u001b[0m \u001b[0;36m1\u001b[0m\u001b[0;34m)\u001b[0m\u001b[0;34m)\u001b[0m\u001b[0;34m,\u001b[0m \u001b[0mstat\u001b[0m\u001b[0;34m=\u001b[0m\u001b[0mstatus\u001b[0m\u001b[0;34m)\u001b[0m\u001b[0;34m\u001b[0m\n",
       "\u001b[0;34m\u001b[0m        \u001b[0;32mif\u001b[0m \u001b[0;34m(\u001b[0m\u001b[0mstatus\u001b[0m \u001b[0;34m/=\u001b[0m \u001b[0;36m0\u001b[0m\u001b[0;34m)\u001b[0m \u001b[0mthen\u001b[0m\u001b[0;34m\u001b[0m\n",
       "\u001b[0;34m\u001b[0m            \u001b[0mwrite\u001b[0m \u001b[0;34m(\u001b[0m\u001b[0munit\u001b[0m\u001b[0;34m=\u001b[0m\u001b[0merror_unit\u001b[0m\u001b[0;34m,\u001b[0m \u001b[0mfmt\u001b[0m\u001b[0;34m=\u001b[0m\u001b[0;34m'(A)'\u001b[0m\u001b[0;34m)\u001b[0m \u001b[0;34m'error: can not allocate row sums'\u001b[0m\u001b[0;34m\u001b[0m\n",
       "\u001b[0;34m\u001b[0m            \u001b[0mstop\u001b[0m \u001b[0;36m11\u001b[0m\u001b[0;34m\u001b[0m\n",
       "\u001b[0;34m\u001b[0m        \u001b[0mend\u001b[0m \u001b[0;32mif\u001b[0m\u001b[0;34m\u001b[0m\n",
       "\u001b[0;34m\u001b[0m        \u001b[0mrow_sums\u001b[0m \u001b[0;34m=\u001b[0m \u001b[0msum\u001b[0m\u001b[0;34m(\u001b[0m\u001b[0mmatrix\u001b[0m\u001b[0;34m,\u001b[0m \u001b[0mdim\u001b[0m\u001b[0;34m=\u001b[0m\u001b[0;36m2\u001b[0m\u001b[0;34m)\u001b[0m\u001b[0;34m\u001b[0m\n",
       "\u001b[0;34m\u001b[0m        \u001b[0mdo\u001b[0m \u001b[0mj\u001b[0m \u001b[0;34m=\u001b[0m \u001b[0;36m1\u001b[0m\u001b[0;34m,\u001b[0m \u001b[0msize\u001b[0m\u001b[0;34m(\u001b[0m\u001b[0mmatrix\u001b[0m\u001b[0;34m,\u001b[0m \u001b[0;36m2\u001b[0m\u001b[0;34m)\u001b[0m\u001b[0;34m\u001b[0m\n",
       "\u001b[0;34m\u001b[0m            \u001b[0mmatrix\u001b[0m\u001b[0;34m(\u001b[0m\u001b[0;34m:\u001b[0m\u001b[0;34m,\u001b[0m \u001b[0mj\u001b[0m\u001b[0;34m)\u001b[0m \u001b[0;34m=\u001b[0m \u001b[0mmatrix\u001b[0m\u001b[0;34m(\u001b[0m\u001b[0;34m:\u001b[0m\u001b[0;34m,\u001b[0m \u001b[0mj\u001b[0m\u001b[0;34m)\u001b[0m\u001b[0;34m/\u001b[0m\u001b[0mrow_sums\u001b[0m\u001b[0;34m\u001b[0m\n",
       "\u001b[0;34m\u001b[0m        \u001b[0mend\u001b[0m \u001b[0mdo\u001b[0m\u001b[0;34m\u001b[0m\n",
       "\u001b[0;34m\u001b[0m        \u001b[0mdeallocate\u001b[0m \u001b[0;34m(\u001b[0m\u001b[0mrow_sums\u001b[0m\u001b[0;34m)\u001b[0m\u001b[0;34m\u001b[0m\n",
       "\u001b[0;34m\u001b[0m    \u001b[0mend\u001b[0m \u001b[0msubroutine\u001b[0m \u001b[0mnorm_matrix_rows\u001b[0m\u001b[0;34m\u001b[0m\n",
       "\u001b[0;34m\u001b[0m\u001b[0;34m\u001b[0m\n",
       "\u001b[0;34m\u001b[0m\u001b[0mend\u001b[0m \u001b[0mmodule\u001b[0m \u001b[0mmatrix_mod\u001b[0m\u001b[0;34m\u001b[0m\u001b[0;34m\u001b[0m\u001b[0m\n"
      ]
     },
     "metadata": {},
     "output_type": "display_data"
    }
   ],
   "source": [
    "%pycat matrix_mod.f90"
   ]
  },
  {
   "cell_type": "markdown",
   "id": "national-iraqi",
   "metadata": {},
   "source": [
    "The subroutine `norm_matrix_rows` takes a 2-dimensional array and normalizes it row-wise.  After calling the subroutine, the sum of each row is 1.\n",
    "\n",
    "Note that the subroutine takes a double precision matrix as argument.  Strangely (and annoyingly), the kind has to be defined using a parameter, rather than using `iso_fotran_env`.\n",
    "\n",
    "We can compile this using f2py, creating a Python module `matrices`."
   ]
  },
  {
   "cell_type": "code",
   "execution_count": 12,
   "id": "honest-number",
   "metadata": {},
   "outputs": [
    {
     "name": "stdout",
     "output_type": "stream",
     "text": [
      "\u001b[39mrunning build\u001b[0m\n",
      "\u001b[39mrunning config_cc\u001b[0m\n",
      "\u001b[39munifing config_cc, config, build_clib, build_ext, build commands --compiler options\u001b[0m\n",
      "\u001b[39mrunning config_fc\u001b[0m\n",
      "\u001b[39munifing config_fc, config, build_clib, build_ext, build commands --fcompiler options\u001b[0m\n",
      "\u001b[39mrunning build_src\u001b[0m\n",
      "\u001b[39mbuild_src\u001b[0m\n",
      "\u001b[39mbuilding extension \"matrices\" sources\u001b[0m\n",
      "\u001b[39mf2py options: []\u001b[0m\n",
      "\u001b[39mf2py:> /tmp/tmpofepkdk9/src.linux-x86_64-3.8/matricesmodule.c\u001b[0m\n",
      "\u001b[39mcreating /tmp/tmpofepkdk9/src.linux-x86_64-3.8\u001b[0m\n",
      "Reading fortran codes...\n",
      "\tReading file 'matrix_mod.f90' (format:free)\n",
      "{'before': '', 'this': 'use', 'after': ', intrinsic :: iso_fortran_env, only : error_unit '}\n",
      "Line #2 in matrix_mod.f90:\"    use, intrinsic :: iso_fortran_env, only : error_unit \"\n",
      "\tanalyzeline: Could not crack the use statement.\n",
      "Post-processing...\n",
      "\tBlock: matrices\n",
      "\t\t\tBlock: matrix_mod\n",
      "\t\t\t\tBlock: norm_matrix_rows\n",
      "Post-processing (stage 2)...\n",
      "\tBlock: matrices\n",
      "\t\tBlock: unknown_interface\n",
      "\t\t\tBlock: matrix_mod\n",
      "\t\t\t\tBlock: norm_matrix_rows\n",
      "Building modules...\n",
      "\tBuilding module \"matrices\"...\n",
      "\t\tConstructing F90 module support for \"matrix_mod\"...\n",
      "\t\tCreating wrapper for Fortran subroutine \"norm_matrix_rows\"(\"norm_matrix_rows\")...\n",
      "\t\t\tConstructing wrapper function \"matrix_mod.norm_matrix_rows\"...\n",
      "\t\t\t  norm_matrix_rows(matrix)\n",
      "\tWrote C/API module \"matrices\" to file \"/tmp/tmpofepkdk9/src.linux-x86_64-3.8/matricesmodule.c\"\n",
      "\tFortran 90 wrappers are saved to \"/tmp/tmpofepkdk9/src.linux-x86_64-3.8/matrices-f2pywrappers2.f90\"\n",
      "\u001b[39m  adding '/tmp/tmpofepkdk9/src.linux-x86_64-3.8/fortranobject.c' to sources.\u001b[0m\n",
      "\u001b[39m  adding '/tmp/tmpofepkdk9/src.linux-x86_64-3.8' to include_dirs.\u001b[0m\n",
      "\u001b[39mcopying /home/gjb/miniconda3/envs/fortran_mooc/lib/python3.8/site-packages/numpy/f2py/src/fortranobject.c -> /tmp/tmpofepkdk9/src.linux-x86_64-3.8\u001b[0m\n",
      "\u001b[39mcopying /home/gjb/miniconda3/envs/fortran_mooc/lib/python3.8/site-packages/numpy/f2py/src/fortranobject.h -> /tmp/tmpofepkdk9/src.linux-x86_64-3.8\u001b[0m\n",
      "\u001b[39m  adding '/tmp/tmpofepkdk9/src.linux-x86_64-3.8/matrices-f2pywrappers2.f90' to sources.\u001b[0m\n",
      "\u001b[39mbuild_src: building npy-pkg config files\u001b[0m\n",
      "\u001b[39mrunning build_ext\u001b[0m\n",
      "\u001b[39mcustomize UnixCCompiler\u001b[0m\n",
      "\u001b[39mcustomize UnixCCompiler using build_ext\u001b[0m\n",
      "\u001b[39mget_default_fcompiler: matching types: '['gnu95', 'intel', 'lahey', 'pg', 'absoft', 'nag', 'vast', 'compaq', 'intele', 'intelem', 'gnu', 'g95', 'pathf95', 'nagfor']'\u001b[0m\n",
      "\u001b[39mcustomize Gnu95FCompiler\u001b[0m\n",
      "\u001b[39mFound executable /usr/bin/gfortran\u001b[0m\n",
      "\u001b[39mcustomize Gnu95FCompiler\u001b[0m\n",
      "\u001b[39mcustomize Gnu95FCompiler using build_ext\u001b[0m\n",
      "\u001b[39mbuilding 'matrices' extension\u001b[0m\n",
      "\u001b[39mcompiling C sources\u001b[0m\n",
      "\u001b[39mC compiler: gcc -pthread -B /home/gjb/miniconda3/envs/fortran_mooc/compiler_compat -Wl,--sysroot=/ -Wsign-compare -DNDEBUG -g -fwrapv -O3 -Wall -Wstrict-prototypes -fPIC\n",
      "\u001b[0m\n",
      "\u001b[39mcreating /tmp/tmpofepkdk9/tmp\u001b[0m\n",
      "\u001b[39mcreating /tmp/tmpofepkdk9/tmp/tmpofepkdk9\u001b[0m\n",
      "\u001b[39mcreating /tmp/tmpofepkdk9/tmp/tmpofepkdk9/src.linux-x86_64-3.8\u001b[0m\n",
      "\u001b[39mcompile options: '-I/tmp/tmpofepkdk9/src.linux-x86_64-3.8 -I/home/gjb/miniconda3/envs/fortran_mooc/lib/python3.8/site-packages/numpy/core/include -I/home/gjb/miniconda3/envs/fortran_mooc/include/python3.8 -c'\u001b[0m\n",
      "\u001b[39mgcc: /tmp/tmpofepkdk9/src.linux-x86_64-3.8/matricesmodule.c\u001b[0m\n",
      "\u001b[39mgcc: /tmp/tmpofepkdk9/src.linux-x86_64-3.8/fortranobject.c\u001b[0m\n",
      "In file included from \u001b[01m\u001b[K/home/gjb/miniconda3/envs/fortran_mooc/lib/python3.8/site-packages/numpy/core/include/numpy/ndarraytypes.h:1822\u001b[m\u001b[K,\n",
      "                 from \u001b[01m\u001b[K/home/gjb/miniconda3/envs/fortran_mooc/lib/python3.8/site-packages/numpy/core/include/numpy/ndarrayobject.h:12\u001b[m\u001b[K,\n",
      "                 from \u001b[01m\u001b[K/home/gjb/miniconda3/envs/fortran_mooc/lib/python3.8/site-packages/numpy/core/include/numpy/arrayobject.h:4\u001b[m\u001b[K,\n",
      "                 from \u001b[01m\u001b[K/tmp/tmpofepkdk9/src.linux-x86_64-3.8/fortranobject.h:13\u001b[m\u001b[K,\n",
      "                 from \u001b[01m\u001b[K/tmp/tmpofepkdk9/src.linux-x86_64-3.8/matricesmodule.c:16\u001b[m\u001b[K:\n",
      "\u001b[01m\u001b[K/home/gjb/miniconda3/envs/fortran_mooc/lib/python3.8/site-packages/numpy/core/include/numpy/npy_1_7_deprecated_api.h:17:2:\u001b[m\u001b[K \u001b[01;35m\u001b[Kwarning: \u001b[m\u001b[K#warning \"Using deprecated NumPy API, disable it with \" \"#define NPY_NO_DEPRECATED_API NPY_1_7_API_VERSION\" [\u001b[01;35m\u001b[K\u001b]8;;https://gcc.gnu.org/onlinedocs/gcc/Warning-Options.html#index-Wcpp\u0007-Wcpp\u001b]8;;\u0007\u001b[m\u001b[K]\n",
      "   17 | #\u001b[01;35m\u001b[Kwarning\u001b[m\u001b[K \"Using deprecated NumPy API, disable it with \" \\\n",
      "      |  \u001b[01;35m\u001b[K^~~~~~~\u001b[m\u001b[K\n",
      "In file included from \u001b[01m\u001b[K/home/gjb/miniconda3/envs/fortran_mooc/lib/python3.8/site-packages/numpy/core/include/numpy/ndarraytypes.h:1822\u001b[m\u001b[K,\n",
      "                 from \u001b[01m\u001b[K/home/gjb/miniconda3/envs/fortran_mooc/lib/python3.8/site-packages/numpy/core/include/numpy/ndarrayobject.h:12\u001b[m\u001b[K,\n",
      "                 from \u001b[01m\u001b[K/home/gjb/miniconda3/envs/fortran_mooc/lib/python3.8/site-packages/numpy/core/include/numpy/arrayobject.h:4\u001b[m\u001b[K,\n",
      "                 from \u001b[01m\u001b[K/tmp/tmpofepkdk9/src.linux-x86_64-3.8/fortranobject.h:13\u001b[m\u001b[K,\n",
      "                 from \u001b[01m\u001b[K/tmp/tmpofepkdk9/src.linux-x86_64-3.8/fortranobject.c:2\u001b[m\u001b[K:\n",
      "\u001b[01m\u001b[K/home/gjb/miniconda3/envs/fortran_mooc/lib/python3.8/site-packages/numpy/core/include/numpy/npy_1_7_deprecated_api.h:17:2:\u001b[m\u001b[K \u001b[01;35m\u001b[Kwarning: \u001b[m\u001b[K#warning \"Using deprecated NumPy API, disable it with \" \"#define NPY_NO_DEPRECATED_API NPY_1_7_API_VERSION\" [\u001b[01;35m\u001b[K\u001b]8;;https://gcc.gnu.org/onlinedocs/gcc/Warning-Options.html#index-Wcpp\u0007-Wcpp\u001b]8;;\u0007\u001b[m\u001b[K]\n",
      "   17 | #\u001b[01;35m\u001b[Kwarning\u001b[m\u001b[K \"Using deprecated NumPy API, disable it with \" \\\n",
      "      |  \u001b[01;35m\u001b[K^~~~~~~\u001b[m\u001b[K\n",
      "\u001b[01m\u001b[K/tmp/tmpofepkdk9/src.linux-x86_64-3.8/matricesmodule.c:102:12:\u001b[m\u001b[K \u001b[01;35m\u001b[Kwarning: \u001b[m\u001b[K‘\u001b[01m\u001b[Kf2py_size\u001b[m\u001b[K’ defined but not used [\u001b[01;35m\u001b[K\u001b]8;;https://gcc.gnu.org/onlinedocs/gcc/Warning-Options.html#index-Wunused-function\u0007-Wunused-function\u001b]8;;\u0007\u001b[m\u001b[K]\n",
      "  102 | static int \u001b[01;35m\u001b[Kf2py_size\u001b[m\u001b[K(PyArrayObject* var, ...)\n",
      "      |            \u001b[01;35m\u001b[K^~~~~~~~~\u001b[m\u001b[K\n",
      "\u001b[39mcompiling Fortran 90 module sources\u001b[0m\n",
      "\u001b[39mFortran f77 compiler: /usr/bin/gfortran -Wall -g -ffixed-form -fno-second-underscore -fPIC -O3 -funroll-loops\n",
      "Fortran f90 compiler: /usr/bin/gfortran -Wall -g -fno-second-underscore -fPIC -O3 -funroll-loops\n",
      "Fortran fix compiler: /usr/bin/gfortran -Wall -g -ffixed-form -fno-second-underscore -Wall -g -fno-second-underscore -fPIC -O3 -funroll-loops\u001b[0m\n",
      "\u001b[39mcompile options: '-I/tmp/tmpofepkdk9/src.linux-x86_64-3.8 -I/home/gjb/miniconda3/envs/fortran_mooc/lib/python3.8/site-packages/numpy/core/include -I/home/gjb/miniconda3/envs/fortran_mooc/include/python3.8 -c'\n",
      "extra options: '-J/tmp/tmpofepkdk9/ -I/tmp/tmpofepkdk9/'\u001b[0m\n",
      "\u001b[39mgfortran:f90: matrix_mod.f90\u001b[0m\n",
      "\u001b[39mcompiling Fortran sources\u001b[0m\n",
      "\u001b[39mFortran f77 compiler: /usr/bin/gfortran -Wall -g -ffixed-form -fno-second-underscore -fPIC -O3 -funroll-loops\n",
      "Fortran f90 compiler: /usr/bin/gfortran -Wall -g -fno-second-underscore -fPIC -O3 -funroll-loops\n",
      "Fortran fix compiler: /usr/bin/gfortran -Wall -g -ffixed-form -fno-second-underscore -Wall -g -fno-second-underscore -fPIC -O3 -funroll-loops\u001b[0m\n",
      "\u001b[39mcompile options: '-I/tmp/tmpofepkdk9/src.linux-x86_64-3.8 -I/home/gjb/miniconda3/envs/fortran_mooc/lib/python3.8/site-packages/numpy/core/include -I/home/gjb/miniconda3/envs/fortran_mooc/include/python3.8 -c'\n",
      "extra options: '-J/tmp/tmpofepkdk9/ -I/tmp/tmpofepkdk9/'\u001b[0m\n",
      "\u001b[39mgfortran:f90: /tmp/tmpofepkdk9/src.linux-x86_64-3.8/matrices-f2pywrappers2.f90\u001b[0m\n",
      "\u001b[39m/usr/bin/gfortran -Wall -g -Wall -g -shared /tmp/tmpofepkdk9/tmp/tmpofepkdk9/src.linux-x86_64-3.8/matricesmodule.o /tmp/tmpofepkdk9/tmp/tmpofepkdk9/src.linux-x86_64-3.8/fortranobject.o /tmp/tmpofepkdk9/matrix_mod.o /tmp/tmpofepkdk9/tmp/tmpofepkdk9/src.linux-x86_64-3.8/matrices-f2pywrappers2.o -L/usr/lib/gcc/x86_64-pc-linux-gnu/10.2.0/../../../../lib -L/usr/lib/gcc/x86_64-pc-linux-gnu/10.2.0/../../../../lib -lgfortran -o ./matrices.cpython-38-x86_64-linux-gnu.so\u001b[0m\n",
      "Removing build directory /tmp/tmpofepkdk9\n"
     ]
    }
   ],
   "source": [
    "!f2py -c -m matrices matrix_mod.f90"
   ]
  },
  {
   "cell_type": "markdown",
   "id": "cognitive-davis",
   "metadata": {},
   "source": [
    "Import the Fortran module from the Python module."
   ]
  },
  {
   "cell_type": "code",
   "execution_count": 13,
   "id": "toxic-testimony",
   "metadata": {},
   "outputs": [],
   "source": [
    "from matrices import matrix_mod"
   ]
  },
  {
   "cell_type": "markdown",
   "id": "controversial-authorization",
   "metadata": {},
   "source": [
    "Create a 2-dimensional array, note that it has to be stored in column-major format, which is not numpy's default  format."
   ]
  },
  {
   "cell_type": "code",
   "execution_count": 19,
   "id": "dramatic-schedule",
   "metadata": {},
   "outputs": [],
   "source": [
    "A = np.asfortranarray(np.arange(1.0, 12.5, 1.0, ).reshape((3, 4)))"
   ]
  },
  {
   "cell_type": "code",
   "execution_count": 20,
   "id": "talented-southeast",
   "metadata": {},
   "outputs": [
    {
     "data": {
      "text/plain": [
       "array([[ 1.,  2.,  3.,  4.],\n",
       "       [ 5.,  6.,  7.,  8.],\n",
       "       [ 9., 10., 11., 12.]])"
      ]
     },
     "execution_count": 20,
     "metadata": {},
     "output_type": "execute_result"
    }
   ],
   "source": [
    "A"
   ]
  },
  {
   "cell_type": "markdown",
   "id": "wound-alcohol",
   "metadata": {},
   "source": [
    "The type of the numpy array is `np.float64` which will be translated to the expected kind in Fortran."
   ]
  },
  {
   "cell_type": "code",
   "execution_count": 21,
   "id": "strange-firewall",
   "metadata": {},
   "outputs": [
    {
     "data": {
      "text/plain": [
       "dtype('float64')"
      ]
     },
     "execution_count": 21,
     "metadata": {},
     "output_type": "execute_result"
    }
   ],
   "source": [
    "A.dtype"
   ]
  },
  {
   "cell_type": "markdown",
   "id": "organizational-appointment",
   "metadata": {},
   "source": [
    "We can call the Fortran subroutine."
   ]
  },
  {
   "cell_type": "code",
   "execution_count": 22,
   "id": "entire-cartridge",
   "metadata": {},
   "outputs": [],
   "source": [
    "matrix_mod.norm_matrix_rows(A)"
   ]
  },
  {
   "cell_type": "code",
   "execution_count": 23,
   "id": "colored-weapon",
   "metadata": {},
   "outputs": [
    {
     "data": {
      "text/plain": [
       "array([[0.1       , 0.2       , 0.3       , 0.4       ],\n",
       "       [0.19230769, 0.23076923, 0.26923077, 0.30769231],\n",
       "       [0.21428571, 0.23809524, 0.26190476, 0.28571429]])"
      ]
     },
     "execution_count": 23,
     "metadata": {},
     "output_type": "execute_result"
    }
   ],
   "source": [
    "A"
   ]
  },
  {
   "cell_type": "markdown",
   "id": "homeless-packet",
   "metadata": {},
   "source": [
    "We can verify the result easily."
   ]
  },
  {
   "cell_type": "code",
   "execution_count": 25,
   "id": "genuine-indianapolis",
   "metadata": {},
   "outputs": [
    {
     "data": {
      "text/plain": [
       "array([1., 1., 1.])"
      ]
     },
     "execution_count": 25,
     "metadata": {},
     "output_type": "execute_result"
    }
   ],
   "source": [
    "A.sum(axis=1)"
   ]
  }
 ],
 "metadata": {
  "kernelspec": {
   "display_name": "Python 3",
   "language": "python",
   "name": "python3"
  },
  "language_info": {
   "codemirror_mode": {
    "name": "ipython",
    "version": 3
   },
   "file_extension": ".py",
   "mimetype": "text/x-python",
   "name": "python",
   "nbconvert_exporter": "python",
   "pygments_lexer": "ipython3",
   "version": "3.9.2 (default, Feb 28 2021, 17:03:44) \n[GCC 10.2.1 20210110]"
  },
  "vscode": {
   "interpreter": {
    "hash": "916dbcbb3f70747c44a77c7bcd40155683ae19c65e1c03b4aa3499c5328201f1"
   }
  }
 },
 "nbformat": 4,
 "nbformat_minor": 5
}
